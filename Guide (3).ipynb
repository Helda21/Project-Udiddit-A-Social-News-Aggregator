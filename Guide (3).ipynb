{
 "cells": [
  {
   "cell_type": "markdown",
   "metadata": {
    "editable": false,
    "ulab": {
     "buttons": {
      "ulab-button-c77d104e": {
       "bashCommand": "service postgresql start && su - postgres",
       "filesToOpen": [],
       "isPreviewButton": false,
       "runInBackground": false,
       "style": "primary",
       "text": "START POSTGRES",
       "toggleOffText": "HIDE SOLUTION",
       "toggleOnText": "SHOW SOLUTION"
      }
     }
    }
   },
   "source": [
    "## Creating Tables\n",
    "\n",
    "Click the below button to make sure the postgres service is started (otherwise done with `service postgresql start`), and to switch the user from root to postgres (otherwise done with `su - postgres`). \n",
    "\n",
    "<button id=\"ulab-button-c77d104e\" class=\"ulab-btn--primary\"></button>\n",
    "\n",
    "You can then use the `psql` command to enter the database."
   ]
  },
  {
   "cell_type": "markdown",
   "metadata": {
    "editable": false
   },
   "source": [
    "### Exercise Instructions\n",
    "\n",
    "Create a normalized set of tables that can support the following data. Don't worry about inserting any data in the tables, only create the structure:\n",
    "\n",
    "| emp_id | emp_name | manager_id | manager_name | manager_phones     |\n",
    "|--------|----------|------------|--------------|--------------------|\n",
    "| 1      | Alice    | 6          | Frank        | 555-1212           |\n",
    "| 2      | Bob      | 5          | Emily        | 555-6042, 555-7213 |\n",
    "| 3      | Cindy    | 6          | Frank        | 555-1212           |\n",
    "| 4      | David    | &nbsp;  | &nbsp; |  &nbsp;  |\n",
    "| 5      | Emily    | 4          | David        | 555-7654, 555-4242 |\n",
    "| 6      | Frank    | 4          | David        | 555-7654, 555-4242 |\n",
    "\n",
    "After you create the table, you should be able to reload the schema to view the results."
   ]
  },
  {
   "cell_type": "markdown",
   "metadata": {
    "editable": false
   },
   "source": [
    "*Remember, the data in postgres will be reset after 15 minutes of inactivity (including the workspace being closed). You may consider using the `scratchpad.sql` file on the tab at the top of the terminal to store your work long-term.*"
   ]
  },
  {
   "cell_type": "markdown",
   "metadata": {
    "editable": false
   },
   "source": [
    "<!--\n",
    "%%ulab_page_divider\n",
    "--><hr/>"
   ]
  },
  {
   "cell_type": "markdown",
   "metadata": {
    "editable": false,
    "ulab": {
     "buttons": {
      "ulab-button-fbb88960": {
       "bashCommand": "service postgresql start && su - postgres",
       "filesToOpen": [],
       "isPreviewButton": false,
       "runInBackground": false,
       "style": "primary",
       "text": "START POSTGRES",
       "toggleOffText": "HIDE SOLUTION",
       "toggleOnText": "SHOW SOLUTION"
      }
     }
    }
   },
   "source": [
    "## DML and Data Types\n",
    "\n",
    "Click the below button to make sure the postgres service is started.\n",
    "\n",
    "<button id=\"ulab-button-fbb88960\" class=\"ulab-btn--primary\"></button>\n",
    "\n",
    "You can then use the `psql` command to enter the database."
   ]
  },
  {
   "cell_type": "markdown",
   "metadata": {
    "editable": false
   },
   "source": [
    "### Exercise Instructions\n",
    "\n",
    "Create a schema that can accommodate a hotel reservation system. Your schema should have:\n",
    "\n",
    "- The ability to store customer data: first and last name, an optional phone number, and multiple email addresses.\n",
    "- The ability to store the hotel's rooms: the hotel has twenty floors with twenty rooms on each floor. In addition to the floor and room number, we need to store the room's livable area in square feet.\n",
    "- The ability to store room reservations: we need to know which guest reserved which room, and during what period.\n",
    "\n",
    "After you create the schema, you should be able to reload the workspace schema to view the results."
   ]
  },
  {
   "cell_type": "markdown",
   "metadata": {
    "editable": false
   },
   "source": [
    "*Remember, the data in postgres will be reset after 15 minutes of inactivity (including the workspace being closed). You may consider using the `scratchpad.sql` file on the tab at the top of the terminal to store your work long-term.*"
   ]
  },
  {
   "cell_type": "markdown",
   "metadata": {
    "editable": false
   },
   "source": [
    "<!--\n",
    "%%ulab_page_divider\n",
    "--><hr/>"
   ]
  },
  {
   "cell_type": "markdown",
   "metadata": {
    "editable": false,
    "ulab": {
     "buttons": {
      "ulab-button-3964c492": {
       "bashCommand": "psql -f /home/workspace/nd072-c2-dbms/lesson-2-data-definition-language/exercises/ex3-modify-table-structure/starter/init.sql",
       "filesToOpen": [],
       "isPreviewButton": false,
       "runInBackground": false,
       "style": "primary",
       "text": "INIT DATABASE",
       "toggleOffText": "HIDE SOLUTION",
       "toggleOnText": "SHOW SOLUTION"
      },
      "ulab-button-b2131927": {
       "bashCommand": "service postgresql start && su - postgres",
       "filesToOpen": [],
       "isPreviewButton": false,
       "runInBackground": false,
       "style": "primary",
       "text": "START POSTGRES",
       "toggleOffText": "HIDE SOLUTION",
       "toggleOnText": "SHOW SOLUTION"
      }
     }
    }
   },
   "source": [
    "## Modifying Table Structure\n",
    "\n",
    "Click the below button to make sure the postgres service is started.\n",
    "\n",
    "<button id=\"ulab-button-b2131927\" class=\"ulab-btn--primary\"></button>\n",
    "\n",
    "Then, click the below button to add the necessary schema to the postgres database for the exercise.\n",
    "\n",
    "<button id=\"ulab-button-3964c492\" class=\"ulab-btn--primary\"></button>\n",
    "\n",
    "You can then use the `psql` command to enter the database."
   ]
  },
  {
   "cell_type": "markdown",
   "metadata": {
    "editable": false
   },
   "source": [
    "### Exercise Instructions\n",
    "\n",
    "Explore the structure of the three tables in the provided SQL workspace. We'd like to make the following changes:\n",
    "\n",
    "* It was found out that email addresses can be longer than 50 characters. We decided to remove the limit on email address lengths to keep things simple.\n",
    "* We'd like the course ratings to be more granular than just integers 0 to 10, also allowing values such as 6.45 or 9.5\n",
    "* We discovered a potential issue with the registrations table that will manifest itself as the number of new students and new courses keeps increasing. Identify the issue and fix it."
   ]
  },
  {
   "cell_type": "markdown",
   "metadata": {
    "editable": false
   },
   "source": [
    "*Remember, the data in postgres will be reset after 15 minutes of inactivity (including the workspace being closed). You may consider using the `scratchpad.sql` file on the tab at the top of the terminal to store your work long-term.*"
   ]
  },
  {
   "cell_type": "markdown",
   "metadata": {
    "editable": false
   },
   "source": [
    "<!--\n",
    "%%ulab_page_divider\n",
    "--><hr/>"
   ]
  },
  {
   "cell_type": "markdown",
   "metadata": {
    "editable": false,
    "ulab": {
     "buttons": {
      "ulab-button-85bbd52c": {
       "bashCommand": "psql -f /home/workspace/nd072-c2-dbms/lesson-3-data-manipulation-language/exercises/ex1-inserting-data/starter/init.sql",
       "filesToOpen": [],
       "isPreviewButton": false,
       "runInBackground": false,
       "style": "primary",
       "text": "INIT DATABASE",
       "toggleOffText": "HIDE SOLUTION",
       "toggleOnText": "SHOW SOLUTION"
      },
      "ulab-button-f7f5dc5a": {
       "bashCommand": "service postgresql start && su - postgres",
       "filesToOpen": [],
       "isPreviewButton": false,
       "runInBackground": false,
       "style": "primary",
       "text": "START POSTGRES",
       "toggleOffText": "HIDE SOLUTION",
       "toggleOnText": "SHOW SOLUTION"
      }
     }
    }
   },
   "source": [
    "## Inserting Data\n",
    "\n",
    "Click the below button to make sure the postgres service is started.\n",
    "\n",
    "<button id=\"ulab-button-f7f5dc5a\" class=\"ulab-btn--primary\"></button>\n",
    "\n",
    "Then, click the below button to add the necessary schema and data to the postgres database for the exercise.\n",
    "\n",
    "<button id=\"ulab-button-85bbd52c\" class=\"ulab-btn--primary\"></button>\n",
    "\n",
    "You can then use the `psql` command to enter the database."
   ]
  },
  {
   "cell_type": "markdown",
   "metadata": {
    "editable": false
   },
   "source": [
    "### Exercise Instructions\n",
    "\n",
    "In this exercise, you'll be asked to migrate a table of denormalized data into two normalized tables. The table called `denormalized_people` contains a list of people, but there is one problem with it: the `emails` column can contain multiple emails, violating one of the rules of first normal form. What more, the primary key of the `denormalized_people` table is the combination of the `first_name` and `last_name` columns. Good thing they're unique for that data set!\n",
    "\n",
    "In a first step, you'll have to migrate the list of people without their emails into the normalized `people` table, which contains an `id SERIAL` column in addition to `first_name` and `last_name`.\n",
    "\n",
    "Once that is done, you'll have to craft an appropriate query to migrate the email addresses of each person to the normalized `people_emails` table. Note that this table has columns `person_id` and `email`, so you'll have to find a way to get the `person_id` corresponding to the `first_name` + `last_name` combination of the `denormalized_people` table.\n",
    "\n",
    "- Hint #1: You'll need to use the Postgres `regexp_split_to_table` function to split up the emails\n",
    "- Hint #2: You'll be using `INSERT...SELECT` queries to achieve the desired result\n",
    "- Hint #3: If you're not certain about your `INSERT` query, use simple `SELECT`s until you have the correct output. Then, use that same `SELECT` inside an `INSERT...SELECT` query to finalize the exercise."
   ]
  },
  {
   "cell_type": "markdown",
   "metadata": {
    "editable": false
   },
   "source": [
    "*Remember, the data in postgres will be reset after 15 minutes of inactivity (including the workspace being closed). You may consider using the `scratchpad.sql` file on the tab at the top of the terminal to store your work long-term.*"
   ]
  },
  {
   "cell_type": "markdown",
   "metadata": {
    "editable": false
   },
   "source": [
    "<!--\n",
    "%%ulab_page_divider\n",
    "--><hr/>"
   ]
  },
  {
   "cell_type": "markdown",
   "metadata": {
    "editable": false,
    "ulab": {
     "buttons": {
      "ulab-button-32c7abf2": {
       "bashCommand": "psql -f /home/workspace/nd072-c2-dbms/lesson-3-data-manipulation-language/exercises/ex2-updating-data/starter/init.sql",
       "filesToOpen": [],
       "isPreviewButton": false,
       "runInBackground": false,
       "style": "primary",
       "text": "INIT DATABASE",
       "toggleOffText": "HIDE SOLUTION",
       "toggleOnText": "SHOW SOLUTION"
      },
      "ulab-button-8a8e04cb": {
       "bashCommand": "service postgresql start && su - postgres",
       "filesToOpen": [],
       "isPreviewButton": false,
       "runInBackground": false,
       "style": "primary",
       "text": "START POSTGRES",
       "toggleOffText": "HIDE SOLUTION",
       "toggleOnText": "SHOW SOLUTION"
      },
      "ulab-button-f7f5dc5a": {
       "bashCommand": "service postgresql start && su - postgres",
       "filesToOpen": [],
       "isPreviewButton": false,
       "runInBackground": false,
       "style": "primary",
       "text": "START POSTGRES",
       "toggleOffText": "HIDE SOLUTION",
       "toggleOnText": "SHOW SOLUTION"
      }
     }
    }
   },
   "source": [
    "## Updating Data\n",
    "\n",
    "Click the below button to make sure the postgres service is started.\n",
    "\n",
    "<button id=\"ulab-button-8a8e04cb\" class=\"ulab-btn--primary\"></button>\n",
    "\n",
    "Then, click the below button to add the necessary schema and data to the postgres database for the exercise.\n",
    "\n",
    "<button id=\"ulab-button-32c7abf2\" class=\"ulab-btn--primary\"></button>\n",
    "\n",
    "You can then use the `psql` command to enter the database."
   ]
  },
  {
   "cell_type": "markdown",
   "metadata": {
    "editable": false
   },
   "source": [
    "### Exercise Instructions\n",
    "\n",
    "For this exercise, you're being asked to fix a `people` table that contains some data annoyances due to the way the data was imported:\n",
    "\n",
    "1. All values of the `last_name` column are currently in upper-case. We'd like to change them from e.g. \"SMITH\" to \"Smith\". Using an `UPDATE` query and the right string function(s), make that happen.\n",
    "\n",
    "2. Instead of dates of birth, the table has a column `born_ago`, a `TEXT` field of the form e.g. '34 years 5 months 3 days'. We'd like to convert this to an actual date of birth. In a first step, use the appropriate DDL command to add a `date_of_birth` column of the appropriate data type. Then, using an `UPDATE` query, set the `date_of_birth` column to the correct value based on the value of the `born_ago` column. Finally, using another DDL command, remove the `born_ago` column from the table."
   ]
  },
  {
   "cell_type": "markdown",
   "metadata": {
    "editable": false
   },
   "source": [
    "*Remember, the data in postgres will be reset after 15 minutes of inactivity (including the workspace being closed). You may consider using the `scratchpad.sql` file on the tab at the top of the terminal to store your work long-term.*"
   ]
  },
  {
   "cell_type": "markdown",
   "metadata": {
    "editable": false
   },
   "source": [
    "<!--\n",
    "%%ulab_page_divider\n",
    "--><hr/>"
   ]
  },
  {
   "cell_type": "markdown",
   "metadata": {
    "editable": false,
    "ulab": {
     "buttons": {
      "ulab-button-3b559905": {
       "bashCommand": "psql -f /home/workspace/nd072-c2-dbms/lesson-3-data-manipulation-language/exercises/ex3-data-manipulation-final/starter/init.sql",
       "filesToOpen": [],
       "isPreviewButton": false,
       "runInBackground": false,
       "style": "primary",
       "text": "INIT DATABASE",
       "toggleOffText": "HIDE SOLUTION",
       "toggleOnText": "SHOW SOLUTION"
      },
      "ulab-button-ecd51ccd": {
       "bashCommand": "service postgresql start && su - postgres",
       "filesToOpen": [],
       "isPreviewButton": false,
       "runInBackground": false,
       "style": "primary",
       "text": "START POSTGRES",
       "toggleOffText": "HIDE SOLUTION",
       "toggleOnText": "SHOW SOLUTION"
      },
      "ulab-button-f7f5dc5a": {
       "bashCommand": "service postgresql start && su - postgres",
       "filesToOpen": [],
       "isPreviewButton": false,
       "runInBackground": false,
       "style": "primary",
       "text": "START POSTGRES",
       "toggleOffText": "HIDE SOLUTION",
       "toggleOnText": "SHOW SOLUTION"
      }
     }
    }
   },
   "source": [
    "## Data Manipulation: Final Exercise\n",
    "\n",
    "Click the below button to make sure the postgres service is started.\n",
    "\n",
    "<button id=\"ulab-button-ecd51ccd\" class=\"ulab-btn--primary\"></button>\n",
    "\n",
    "Then, click the below button to add the necessary schema and data to the postgres database for the exercise.\n",
    "\n",
    "<button id=\"ulab-button-3b559905\" class=\"ulab-btn--primary\"></button>\n",
    "\n",
    "You can then use the `psql` command to enter the database."
   ]
  },
  {
   "cell_type": "markdown",
   "metadata": {
    "editable": false
   },
   "source": [
    "### Exercise Instructions\n",
    "\n",
    "For this exercise, you'll be given a table called `user_data`, and asked to make some changes to it. In order to make sure that your changes happen coherently, you're asked to turn off auto-commit, and create your own transaction around all the queries you will run.\n",
    "\n",
    "Here are the changes you will need to make:\n",
    "\n",
    "1. Due to some obscure privacy regulations, all users from California and New York must be removed from the data set.\n",
    "2. For the remaining users, we want to split up the `name` column into two new columns: `first_name` and `last_name`.\n",
    "3. Finally, we want to simplify the data by changing the `state` column to a `state_id` column.\n",
    "  1. First create a `states` table with an automatically generated id and `state` abbreviation.\n",
    "  2. Then, migrate all the states from the dataset to that table, taking care to not have duplicates.\n",
    "  3. Once all the states are migrated and have their unique ID, add a `state_id` column to the `user_data` table.\n",
    "   4. Use the appropriate query to make the `state_id` of the `user_data` column match the appropriate ID from the new `states` table.\n",
    "  5. Remove the now redundant `state` column from the `user_data` table."
   ]
  },
  {
   "cell_type": "markdown",
   "metadata": {
    "editable": false
   },
   "source": [
    "*Remember, the data in postgres will be reset after 15 minutes of inactivity (including the workspace being closed). You may consider using the `scratchpad.sql` file on the tab at the top of the terminal to store your work long-term.*"
   ]
  },
  {
   "cell_type": "markdown",
   "metadata": {
    "editable": false
   },
   "source": [
    "<!--\n",
    "%%ulab_page_divider\n",
    "--><hr/>"
   ]
  },
  {
   "cell_type": "markdown",
   "metadata": {
    "editable": false,
    "ulab": {
     "buttons": {
      "ulab-button-3b82c11c": {
       "bashCommand": "psql -f /home/workspace/nd072-c2-dbms/lesson-4-constraints/exercises/ex1-unique-primary-key-constraints/starter/init.sql",
       "filesToOpen": [],
       "isPreviewButton": false,
       "runInBackground": false,
       "style": "primary",
       "text": "INIT DATABASE",
       "toggleOffText": "HIDE SOLUTION",
       "toggleOnText": "SHOW SOLUTION"
      },
      "ulab-button-f28116ea": {
       "bashCommand": "service postgresql start && su - postgres",
       "filesToOpen": [],
       "isPreviewButton": false,
       "runInBackground": false,
       "style": "primary",
       "text": "START POSTGRES",
       "toggleOffText": "HIDE SOLUTION",
       "toggleOnText": "SHOW SOLUTION"
      },
      "ulab-button-f7f5dc5a": {
       "bashCommand": "service postgresql start && su - postgres",
       "filesToOpen": [],
       "isPreviewButton": false,
       "runInBackground": false,
       "style": "primary",
       "text": "START POSTGRES",
       "toggleOffText": "HIDE SOLUTION",
       "toggleOnText": "SHOW SOLUTION"
      }
     }
    }
   },
   "source": [
    "## Unique & Primary Key Constraints\n",
    "\n",
    "Click the below button to make sure the postgres service is started.\n",
    "\n",
    "<button id=\"ulab-button-f28116ea\" class=\"ulab-btn--primary\"></button>\n",
    "\n",
    "Then, click the below button to add the necessary schema to the postgres database for the exercise.\n",
    "\n",
    "<button id=\"ulab-button-3b82c11c\" class=\"ulab-btn--primary\"></button>\n",
    "\n",
    "You can then use the `psql` command to enter the database."
   ]
  },
  {
   "cell_type": "markdown",
   "metadata": {
    "editable": false
   },
   "source": [
    "### Exercise Instructions\n",
    "\n",
    "For this exercise, you're going to have to explore the data schema in the Postgres workspace in order to determine which pieces of data require Unique and Primary Key constraints. Then, you'll have to execute the appropriate `ALTER TABLE` statements to add these constraints to the data set.\n",
    "\n",
    "Hint: There are 6 total constraints to be added."
   ]
  },
  {
   "cell_type": "markdown",
   "metadata": {
    "editable": false
   },
   "source": [
    "*Remember, the data in postgres will be reset after 15 minutes of inactivity (including the workspace being closed). You may consider using the `scratchpad.sql` file on the tab at the top of the terminal to store your work long-term.*"
   ]
  },
  {
   "cell_type": "markdown",
   "metadata": {
    "editable": false
   },
   "source": [
    "<!--\n",
    "%%ulab_page_divider\n",
    "--><hr/>"
   ]
  },
  {
   "cell_type": "markdown",
   "metadata": {
    "editable": false,
    "ulab": {
     "buttons": {
      "ulab-button-d6aa4b3b": {
       "bashCommand": "psql -f /home/workspace/nd072-c2-dbms/lesson-4-constraints/exercises/ex2-foreign-key-constraints/starter/init.sql",
       "filesToOpen": [],
       "isPreviewButton": false,
       "runInBackground": false,
       "style": "primary",
       "text": "INIT DATABASE",
       "toggleOffText": "HIDE SOLUTION",
       "toggleOnText": "SHOW SOLUTION"
      },
      "ulab-button-f7f5dc5a": {
       "bashCommand": "service postgresql start && su - postgres",
       "filesToOpen": [],
       "isPreviewButton": false,
       "runInBackground": false,
       "style": "primary",
       "text": "START POSTGRES",
       "toggleOffText": "HIDE SOLUTION",
       "toggleOnText": "SHOW SOLUTION"
      },
      "ulab-button-fd4d2da8": {
       "bashCommand": "service postgresql start && su - postgres",
       "filesToOpen": [],
       "isPreviewButton": false,
       "runInBackground": false,
       "style": "primary",
       "text": "START POSTGRES",
       "toggleOffText": "HIDE SOLUTION",
       "toggleOnText": "SHOW SOLUTION"
      }
     }
    }
   },
   "source": [
    "## Foreign Key Constraints\n",
    "\n",
    "Click the below button to make sure the postgres service is started.\n",
    "\n",
    "<button id=\"ulab-button-fd4d2da8\" class=\"ulab-btn--primary\"></button>\n",
    "\n",
    "Then, click the below button to add the necessary schema to the postgres database for the exercise.\n",
    "\n",
    "<button id=\"ulab-button-d6aa4b3b\" class=\"ulab-btn--primary\"></button>\n",
    "\n",
    "You can then use the `psql` command to enter the database."
   ]
  },
  {
   "cell_type": "markdown",
   "metadata": {
    "editable": false
   },
   "source": [
    "### Exercise Instructions\n",
    "\n",
    "For this exercise, you're going to add some foreign key constraints to an existing schema, but you'll have to respect some business rules that were put in place:\n",
    "\n",
    "1. As a first step, please explore the currently provided schema and understand the relationships between all the tables\n",
    "2. Once that's done, please create all the foreign key constraints that are necessary to keep the referential integrity of the schema, with the following in mind:\n",
    "  1. When an employee who's a manager gets deleted from the system, we want to keep all the employees that were under him/her. They simply won't have a manager assigned to them.\n",
    "  2. We can't delete an employee as long as they have projects assigned to them\n",
    "  3. When a project gets deleted from the system, we won't need to keep track of the people who were working on it."
   ]
  },
  {
   "cell_type": "markdown",
   "metadata": {
    "editable": false
   },
   "source": [
    "*Remember, the data in postgres will be reset after 15 minutes of inactivity (including the workspace being closed). You may consider using the `scratchpad.sql` file on the tab at the top of the terminal to store your work long-term.*"
   ]
  },
  {
   "cell_type": "markdown",
   "metadata": {
    "editable": false
   },
   "source": [
    "<!--\n",
    "%%ulab_page_divider\n",
    "--><hr/>"
   ]
  },
  {
   "cell_type": "markdown",
   "metadata": {
    "editable": false,
    "ulab": {
     "buttons": {
      "ulab-button-10aa279f": {
       "bashCommand": "psql -f /home/workspace/nd072-c2-dbms/lesson-4-constraints/exercises/ex3-final-review/starter/init.sql",
       "filesToOpen": [],
       "isPreviewButton": false,
       "runInBackground": false,
       "style": "primary",
       "text": "INIT DATABASE",
       "toggleOffText": "HIDE SOLUTION",
       "toggleOnText": "SHOW SOLUTION"
      },
      "ulab-button-34e798ad": {
       "bashCommand": "service postgresql start && su - postgres",
       "filesToOpen": [],
       "isPreviewButton": false,
       "runInBackground": false,
       "style": "primary",
       "text": "START POSTGRES",
       "toggleOffText": "HIDE SOLUTION",
       "toggleOnText": "SHOW SOLUTION"
      },
      "ulab-button-f7f5dc5a": {
       "bashCommand": "service postgresql start && su - postgres",
       "filesToOpen": [],
       "isPreviewButton": false,
       "runInBackground": false,
       "style": "primary",
       "text": "START POSTGRES",
       "toggleOffText": "HIDE SOLUTION",
       "toggleOnText": "SHOW SOLUTION"
      }
     }
    }
   },
   "source": [
    "## Final Review Exercise\n",
    "\n",
    "Click the below button to make sure the postgres service is started.\n",
    "\n",
    "<button id=\"ulab-button-34e798ad\" class=\"ulab-btn--primary\"></button>\n",
    "\n",
    "Then, click the below button to add the necessary schema to the postgres database for the exercise.\n",
    "\n",
    "<button id=\"ulab-button-10aa279f\" class=\"ulab-btn--primary\"></button>\n",
    "\n",
    "You can then use the `psql` command to enter the database."
   ]
  },
  {
   "cell_type": "markdown",
   "metadata": {
    "editable": false
   },
   "source": [
    "### Exercise Instructions\n",
    "\n",
    "In this exercise, you're going to manage a database schema that contains no constraints, allowing you to practice all the concepts that you learned in this lesson!\n",
    "\n",
    "After exploring the schema, this is what you'll have to identify the following for each table, and add the appropriate constraints for them:\n",
    "\n",
    "1. Identify the primary key for each table\n",
    "2. Identify the unique constraints necessary for each table\n",
    "3. Identify the foreign key constraints necessary for each table\n",
    "4. In addition to the three types of constraints above, you'll have to implement some custom business rules:\n",
    "  - Usernames need to have a minimum of 5 characters\n",
    "  - A book's name cannot be empty\n",
    "  - A book's name must start with a capital letter\n",
    "  - A user's book preferences have to be distinct"
   ]
  },
  {
   "cell_type": "markdown",
   "metadata": {
    "editable": false
   },
   "source": [
    "*Remember, the data in postgres will be reset after 15 minutes of inactivity (including the workspace being closed). You may consider using the `scratchpad.sql` file on the tab at the top of the terminal to store your work long-term.*"
   ]
  },
  {
   "cell_type": "markdown",
   "metadata": {
    "editable": false
   },
   "source": [
    "<!--\n",
    "%%ulab_page_divider\n",
    "--><hr/>"
   ]
  },
  {
   "cell_type": "markdown",
   "metadata": {
    "editable": false,
    "ulab": {
     "buttons": {
      "ulab-button-85cfa7f6": {
       "bashCommand": "service postgresql start && su - postgres",
       "filesToOpen": [],
       "isPreviewButton": false,
       "runInBackground": false,
       "style": "primary",
       "text": "START POSTGRES",
       "toggleOffText": "HIDE SOLUTION",
       "toggleOnText": "SHOW SOLUTION"
      },
      "ulab-button-ae444a25": {
       "bashCommand": "psql -f /home/workspace/nd072-c2-dbms/lesson-5-indexes/exercises/ex1-indexing/starter/init.sql",
       "filesToOpen": [],
       "isPreviewButton": false,
       "runInBackground": false,
       "style": "primary",
       "text": "INIT DATABASE",
       "toggleOffText": "HIDE SOLUTION",
       "toggleOnText": "SHOW SOLUTION"
      },
      "ulab-button-f7f5dc5a": {
       "bashCommand": "service postgresql start && su - postgres",
       "filesToOpen": [],
       "isPreviewButton": false,
       "runInBackground": false,
       "style": "primary",
       "text": "START POSTGRES",
       "toggleOffText": "HIDE SOLUTION",
       "toggleOnText": "SHOW SOLUTION"
      }
     }
    }
   },
   "source": [
    "## Indexing\n",
    "\n",
    "Click the below button to make sure the postgres service is started.\n",
    "\n",
    "<button id=\"ulab-button-85cfa7f6\" class=\"ulab-btn--primary\"></button>\n",
    "\n",
    "Then, click the below button to add the necessary schema to the postgres database for the exercise.\n",
    "\n",
    "<button id=\"ulab-button-ae444a25\" class=\"ulab-btn--primary\"></button>\n",
    "\n",
    "You can then use the `psql` command to enter the database."
   ]
  },
  {
   "cell_type": "markdown",
   "metadata": {
    "editable": false
   },
   "source": [
    "### Exercise Instructions\n",
    "\n",
    "For this exercise, you're being asked to modify the table structure provided in order to answer some business requirements. The tables `books`, `authors`, and `book_authors` have had their columns setup, but no constraints nor indexes have been added.\n",
    "\n",
    "Given the business requirements below, add the necessary constraints and indexes to support each use-case:\n",
    "\n",
    "1. We need to be able to quickly find books and authors by their IDs.\n",
    "2. We need to be able to quickly tell which books an author has written.\n",
    "3. We need to be able to quickly find a book by its ISBN #.\n",
    "4. We need to be able to quickly search for books by their titles in a case-insensitive way, even if the title is partial. For example, searching for \"the\" should return \"The Lord of the Rings\".\n",
    "5. For a given book, we need to be able to quickly find all the topics associated to it.\n",
    "6. For a given topic, we need to be able to quickly find all the books tagged with it."
   ]
  },
  {
   "cell_type": "markdown",
   "metadata": {
    "editable": false
   },
   "source": [
    "*Remember, the data in postgres will be reset after 15 minutes of inactivity (including the workspace being closed). You may consider using the `scratchpad.sql` file on the tab at the top of the terminal to store your work long-term.*"
   ]
  },
  {
   "cell_type": "markdown",
   "metadata": {
    "editable": false
   },
   "source": [
    "<!--\n",
    "%%ulab_page_divider\n",
    "--><hr/>"
   ]
  },
  {
   "cell_type": "markdown",
   "metadata": {
    "editable": false,
    "ulab": {
     "buttons": {
      "ulab-button-f7f5dc5a": {
       "bashCommand": "service postgresql start && su - postgres",
       "filesToOpen": [],
       "isPreviewButton": false,
       "runInBackground": false,
       "style": "primary",
       "text": "START POSTGRES",
       "toggleOffText": "HIDE SOLUTION",
       "toggleOnText": "SHOW SOLUTION"
      },
      "ulab-button-fc82ee32": {
       "bashCommand": "service postgresql start && su - postgres",
       "filesToOpen": [],
       "isPreviewButton": false,
       "runInBackground": false,
       "style": "primary",
       "text": "START POSTGRES",
       "toggleOffText": "HIDE SOLUTION",
       "toggleOnText": "SHOW SOLUTION"
      }
     }
    }
   },
   "source": [
    "## Indexing + `EXPLAIN`\n",
    "\n",
    "Click the below button to make sure the postgres service is started.\n",
    "\n",
    "<button id=\"ulab-button-fc82ee32\" class=\"ulab-btn--primary\"></button>\n",
    "\n",
    "You can then use the `psql` command to enter the database."
   ]
  },
  {
   "cell_type": "markdown",
   "metadata": {
    "editable": false
   },
   "source": [
    "### Exercise Instructions\n",
    "\n",
    "For this exercise, you'll have to observe the output of some `EXPLAIN` queries, and describe in your own words, with as much detail as you can, what is going on. Write down your observations for each of the following, then look at the solution video to compare your answers!\n",
    "\n",
    "```sql\n",
    " Seq Scan on phonebook_1000000  (cost=0.00..18284.00 rows=1000000 width=34)\n",
    "```\n",
    "\n",
    "```sql\n",
    " Seq Scan on phonebook_1000000  (cost=0.00..20784.00 rows=324 width=34) \n",
    " (actual time=0.169..112.646 rows=343 loops=1)\n",
    "   Filter: ((first_name)::text = 'John'::text)\n",
    "   Rows Removed by Filter: 999657\n",
    " Planning time: 0.213 ms\n",
    " Execution time: 117.582 ms\n",
    "```\n",
    "\n",
    "```sql\n",
    " Bitmap Heap Scan on phonebook  (cost=44.64..4863.00 rows=2092 width=34)\n",
    "   Recheck Cond: ((last_name)::text = 'Smith'::text)\n",
    "   ->  Bitmap Index Scan on phonebook_last_name_idx  \n",
    "   (cost=0.00..44.11 rows=2092 width=0)\n",
    "         Index Cond: ((last_name)::text = 'Smith'::text)\n",
    "```\n",
    "\n",
    "```sql\n",
    " Bitmap Heap Scan on phonebook  (cost=44.12..4867.70 rows=1 width=34)\n",
    "   Recheck Cond: ((last_name)::text = 'Smith'::text)\n",
    "   Filter: ((first_name)::text = 'John'::text)\n",
    "   ->  Bitmap Index Scan on phonebook_last_name_idx  \n",
    "   (cost=0.00..44.11 rows=2092 width=0)\n",
    "         Index Cond: ((last_name)::text = 'Smith'::text)\n",
    "```\n",
    "\n",
    "```sql\n",
    " Index Only Scan using phonebook_pkey on phonebook  \n",
    " (cost=0.42..8.44 rows=1 width=4)\n",
    "   Index Cond: (id = 98765)\n",
    "```"
   ]
  },
  {
   "cell_type": "markdown",
   "metadata": {
    "editable": false
   },
   "source": [
    "*Remember, the data in postgres will be reset after 15 minutes of inactivity (including the workspace being closed). You may consider using the `scratchpad.sql` file on the tab at the top of the terminal to store your work long-term.*"
   ]
  },
  {
   "cell_type": "markdown",
   "metadata": {
    "editable": false
   },
   "source": [
    "<!--\n",
    "%%ulab_page_divider\n",
    "--><hr/>"
   ]
  },
  {
   "cell_type": "markdown",
   "metadata": {
    "editable": false,
    "ulab": {
     "buttons": {
      "ulab-button-bdd2cae9": {
       "bashCommand": "service postgresql start && su - postgres",
       "filesToOpen": [],
       "isPreviewButton": false,
       "runInBackground": false,
       "style": "primary",
       "text": "START POSTGRES",
       "toggleOffText": "HIDE SOLUTION",
       "toggleOnText": "SHOW SOLUTION"
      },
      "ulab-button-f7f5dc5a": {
       "bashCommand": "service postgresql start && su - postgres",
       "filesToOpen": [],
       "isPreviewButton": false,
       "runInBackground": false,
       "style": "primary",
       "text": "START POSTGRES",
       "toggleOffText": "HIDE SOLUTION",
       "toggleOnText": "SHOW SOLUTION"
      }
     }
    }
   },
   "source": [
    "## Creating a Complete Schema\n",
    "\n",
    "Click the below button to make sure the postgres service is started.\n",
    "\n",
    "<button id=\"ulab-button-bdd2cae9\" class=\"ulab-btn--primary\"></button>\n",
    "\n",
    "Note: there is no starter schema or data for this exercise.\n",
    "\n",
    "You can then use the `psql` command to enter the database."
   ]
  },
  {
   "cell_type": "markdown",
   "metadata": {
    "editable": false
   },
   "source": [
    "### Exercise Instructions\n",
    "\n",
    "In this exercise, you'll get to review many of the new skills you've developed with relational databases! You're being tasked with creating a database of movies with the following specification:\n",
    "\n",
    "- A movie has a title and a description, and zero or more categories associated to it.\n",
    "- A category is just a name, but that name has to be unique\n",
    "- Users can register to the system to rate movies:\n",
    "    - A user's username has to be unique in a case-insensitive way. For instance, if a user registers with the username \"Bob\", then nobody can register with \"bob\" nor \"BOB\"\n",
    "    - A user can only rate a movie once, and the rating is an integer between 0 and 100, inclusive\n",
    "    - In addition to rating movies, users can also \"like\" categories.\n",
    "- The following queries need to execute quickly and efficiently. The database will contain ~6 million movies:\n",
    "    - Finding a movie by partially searching its name\n",
    "    - Finding a user by their username\n",
    "    - For a given user, find all the categories they like and movies they rated\n",
    "    - For a given movie, find all the users who rated it\n",
    "    - For a given category, find all the users who like it\n",
    "\n",
    "*NOTE*: Unless you populate your database with millions of rows of realistic data, you won't be able to use `EXPLAIN` for this exercise."
   ]
  },
  {
   "cell_type": "markdown",
   "metadata": {
    "editable": false
   },
   "source": [
    "*Remember, the data in postgres will be reset after 15 minutes of inactivity (including the workspace being closed). You may consider using the `scratchpad.sql` file on the tab at the top of the terminal to store your work long-term.*"
   ]
  },
  {
   "cell_type": "markdown",
   "metadata": {
    "editable": false
   },
   "source": [
    "<!--\n",
    "%%ulab_page_divider\n",
    "--><hr/>"
   ]
  },
  {
   "cell_type": "markdown",
   "metadata": {
    "editable": false,
    "ulab": {
     "buttons": {
      "ulab-button-76473572": {
       "bashCommand": "service postgresql start && su - postgres",
       "filesToOpen": [],
       "isPreviewButton": false,
       "runInBackground": false,
       "style": "primary",
       "text": "START POSTGRES",
       "toggleOffText": "HIDE SOLUTION",
       "toggleOnText": "SHOW SOLUTION"
      },
      "ulab-button-ab2f6121": {
       "bashCommand": "psql -f /home/workspace/nd072-c2-dbms/project/starter/bad-db.sql",
       "filesToOpen": [],
       "isPreviewButton": false,
       "runInBackground": false,
       "style": "primary",
       "text": "INIT DATABASE",
       "toggleOffText": "HIDE SOLUTION",
       "toggleOnText": "SHOW SOLUTION"
      }
     }
    }
   },
   "source": [
    "## Project: Udiddit\n",
    "\n",
    "Click the below button to make sure the postgres service is started.\n",
    "\n",
    "<button id=\"ulab-button-76473572\" class=\"ulab-btn--primary\"></button>\n",
    "\n",
    "Then, click the below button to add the necessary schema to the postgres database for the project.\n",
    "\n",
    "<button id=\"ulab-button-ab2f6121\" class=\"ulab-btn--primary\"></button>\n",
    "\n",
    "You can then use the `psql` command to enter the database.\n",
    "\n",
    "*Remember, the data in postgres will be reset after 15 minutes of inactivity (including the workspace being closed). You may consider using the `scratchpad.sql` file on the tab at the top of the terminal to store your work long-term.*"
   ]
  },
  {
   "cell_type": "markdown",
   "metadata": {
    "editable": false
   },
   "source": [
    "### Template\n",
    "\n",
    "The [template](https://docs.google.com/document/d/1eQ3jsuU55Vyu6iuKpIqqR0_cC8spVNwM-wyqwtLcGgQ/copy) for the project is not included here as the filetype is unsupported; keep it open in a separate window as you work."
   ]
  },
  {
   "cell_type": "code",
   "execution_count": 1,
   "metadata": {
    "editable": true
   },
   "outputs": [
    {
     "ename": "SyntaxError",
     "evalue": "invalid syntax (<ipython-input-1-85c48398df16>, line 1)",
     "output_type": "error",
     "traceback": [
      "\u001b[0;36m  File \u001b[0;32m\"<ipython-input-1-85c48398df16>\"\u001b[0;36m, line \u001b[0;32m1\u001b[0m\n\u001b[0;31m    CREATE TABLE bad_posts (\u001b[0m\n\u001b[0m               ^\u001b[0m\n\u001b[0;31mSyntaxError\u001b[0m\u001b[0;31m:\u001b[0m invalid syntax\n"
     ]
    }
   ],
   "source": []
  }
 ],
 "metadata": {
  "kernelspec": {
   "display_name": "Python 3",
   "language": "python",
   "name": "python3"
  },
  "language_info": {
   "codemirror_mode": {
    "name": "ipython",
    "version": 3
   },
   "file_extension": ".py",
   "mimetype": "text/x-python",
   "name": "python",
   "nbconvert_exporter": "python",
   "pygments_lexer": "ipython3",
   "version": "3.6.3"
  },
  "ulab_nb_type": "guided"
 },
 "nbformat": 4,
 "nbformat_minor": 4
}
